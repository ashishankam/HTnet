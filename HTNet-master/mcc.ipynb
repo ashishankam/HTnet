{
 "cells": [
  {
   "cell_type": "code",
   "execution_count": null,
   "metadata": {},
   "outputs": [
    {
     "name": "stdout",
     "output_type": "stream",
     "text": [
      "Weighted Average MCC: 0.2679\n",
      "Macro-Averaged MCC: 0.2155\n",
      "Overall MCC: 0.6003\n"
     ]
    }
   ],
   "source": [
    "from sklearn.metrics import matthews_corrcoef\n",
    "from sklearn.metrics import cohen_kappa_score\n",
    "\n",
    "\n",
    "\n",
    "# dataset\n",
    "data = {\n",
    "    '006': {'pred': [0, 0, 0, 0, 0, 0, 0, 0, 0, 2, 0], 'truth': [0, 0, 0, 0, 0, 0, 0, 0, 0, 2, 2]}, '007': {'pred': [1, 1, 1, 1, 1, 1, 1, 1], 'truth': [0, 1, 1, 1, 1, 1, 2, 2]}, '009': {'pred': [0, 0, 0, 0], 'truth': [0, 0, 0, 2]}, '010': {'pred': [0, 0, 0, 0], 'truth': [0, 0, 0, 0]}, '011': {'pred': [0, 0, 0, 0, 0, 0, 0, 0, 0, 1, 1, 0, 0, 0, 0, 0, 1, 1, 1, 1], 'truth': [0, 0, 0, 0, 0, 0, 0, 0, 0, 0, 0, 0, 0, 1, 1, 1, 1, 1, 1, 1]}, '012': {'pred': [0, 0, 0], 'truth': [0, 0, 2]}, '013': {'pred': [0, 0, 0, 0, 0, 0], 'truth': [0, 0, 0, 0, 0, 0]}, '014': {'pred': [0, 0, 1, 1, 1, 1, 0, 1, 0, 0], 'truth': [0, 0, 1, 1, 1, 1, 1, 1, 1, 2]}, '015': {'pred': [0, 0, 0], 'truth': [0, 0, 2]}, '016': {'pred': [0, 0, 1, 0, 0], 'truth': [0, 0, 1, 2, 2]}, '017': {'pred': [0, 0, 0, 0], 'truth': [0, 0, 0, 2]}, '018': {'pred': [0, 0, 2], 'truth': [0, 0, 2]}, '019': {'pred': [1], 'truth': [1]}, '020': {'pred': [0, 0, 1, 0], 'truth': [0, 0, 1, 1]}, '021': {'pred': [0, 0], 'truth': [0, 0]}, '022': {'pred': [0, 1, 0, 1, 1], 'truth': [0, 0, 0, 1, 1]}, '023': {'pred': [0], 'truth': [0]}, '024': {'pred': [0], 'truth': [0]}, '026': {'pred': [0, 0, 0, 0, 0, 0, 0, 0, 0], 'truth': [0, 0, 0, 0, 0, 0, 0, 0, 0]}, '028': {'pred': [0, 2, 2], 'truth': [0, 2, 2]}, '030': {'pred': [0, 0, 0], 'truth': [0, 0, 0]}, '031': {'pred': [0], 'truth': [0]}, '032': {'pred': [0, 0, 0, 0], 'truth': [0, 0, 0, 0]}, '033': {'pred': [0, 0, 0, 0, 0], 'truth': [0, 0, 0, 0, 1]}, '034': {'pred': [0, 0, 0], 'truth': [0, 0, 0]}, '035': {'pred': [0, 0, 0, 0, 0, 0, 0, 0], 'truth': [0, 0, 0, 0, 0, 0, 0, 2]}, '036': {'pred': [0], 'truth': [0]}, '037': {'pred': [0], 'truth': [0]}, 'sub01': {'pred': [0, 0, 0], 'truth': [0, 0, 1]}, 'sub02': {'pred': [0, 0, 0, 0, 0, 0, 2, 2, 0], 'truth': [0, 0, 0, 0, 0, 1, 2, 2, 2]}, 'sub03': {'pred': [0, 0, 0, 0, 2], 'truth': [0, 0, 0, 0, 2]}, 'sub04': {'pred': [0, 0], 'truth': [0, 0]}, 'sub05': {'pred': [2, 2, 2, 2, 2, 2], 'truth': [1, 2, 2, 2, 2, 2]}, 'sub06': {'pred': [0, 0, 0, 2], 'truth': [0, 1, 2, 2]}, 'sub07': {'pred': [0, 0, 0, 0, 0], 'truth': [0, 0, 0, 0, 0]},'sub08': {'pred': [0], 'truth': [0]}, 'sub09': {'pred': [0, 0, 0, 0, 0, 0, 0, 0, 0, 1], 'truth': [0, 0, 0, 0, 0, 1, 1, 1, 1, 1]}, 'sub11': {'pred': [0, 0, 0, 0], 'truth': [0, 0, 0, 0]}, 'sub12': {'pred': [0, 0, 0, 2, 0, 2, 0, 2, 2, 2, 0], 'truth': [0, 0, 0, 0, 0, 1, 1, 2, 2, 2, 2]}, 'sub13': {'pred': [1, 1], 'truth': [1, 1]}, 'sub14': {'pred': [1, 1, 1], 'truth': [1, 1, 1]}, 'sub15': {'pred': [0, 1, 2], 'truth': [0, 1, 2]}, 'sub16': {'pred': [0, 0, 0], 'truth': [0, 1, 1]}, 'sub17': {'pred': [0, 0, 0, 0, 0, 0, 0, 0, 0, 0, 0, 0, 0, 0, 0, 0, 0, 0, 0, 0, 0, 0, 0, 0, 0, 0, 0, 0, 0, 0, 0], 'truth': [0, 0, 0, 0, 0, 0, 0, 0, 0, 0, 0, 0, 0, 0, 0, 0, 0, 0, 0, 0, 0, 0, 0, 1, 1, 1, 1, 1, 1, 1, 2]}, 'sub19': {'pred': [0, 2, 0, 0, 2, 2, 2, 2, 2, 2, 2], 'truth': [0, 0, 0, 1, 1, 1, 2, 2, 2, 2, 2]}, 'sub20': {'pred': [0, 0], 'truth': [0, 0]}, 'sub21': {'pred': [0], 'truth': [0]}, 'sub22': {'pred': [0, 0], 'truth': [0, 0]}, 'sub23': {'pred': [0, 0, 0, 0, 0, 0, 0, 1], 'truth': [0, 0, 0, 0, 0, 0, 0, 1]}, 'sub24': {'pred': [0, 0, 0], 'truth': [0, 0, 2]}, 'sub25': {'pred': [0, 0, 0, 2, 0], 'truth': [0, 0, 0, 2, 2]}, 'sub26': {'pred': [0, 0, 0, 0, 0, 0, 0, 0, 0, 0, 0], 'truth': [0, 0, 0, 0, 0, 0, 0, 0, 0, 1, 1]}\n",
    "}\n",
    "\n",
    "# Weighted Average MCC\n",
    "def calculate_weighted_mcc(data):\n",
    "    total_samples = 0\n",
    "    weighted_mcc_sum = 0\n",
    "\n",
    "    for subject, values in data.items():\n",
    "        y_pred = values['pred']\n",
    "        y_truth = values['truth']\n",
    "        mcc = matthews_corrcoef(y_truth, y_pred)\n",
    "        n_samples = len(y_truth)\n",
    "        weighted_mcc_sum += mcc * n_samples\n",
    "        total_samples += n_samples\n",
    "\n",
    "    weighted_mcc = weighted_mcc_sum / total_samples if total_samples > 0 else 0\n",
    "    return weighted_mcc\n",
    "\n",
    "# Macro-Averaged MCC\n",
    "def calculate_macro_mcc(data):\n",
    "    mcc_scores = []\n",
    "\n",
    "    for subject, values in data.items():\n",
    "        y_pred = values['pred']\n",
    "        y_truth = values['truth']\n",
    "        mcc = matthews_corrcoef(y_truth, y_pred)\n",
    "        mcc_scores.append(mcc)\n",
    "\n",
    "    macro_mcc = sum(mcc_scores) / len(mcc_scores) if mcc_scores else 0\n",
    "    return macro_mcc\n",
    "\n",
    "# Overall MCC (all predictions combined)\n",
    "def calculate_overall_mcc(data):\n",
    "    all_truths = []\n",
    "    all_preds = []\n",
    "\n",
    "    for subject, values in data.items():\n",
    "        all_truths.extend(values['truth'])\n",
    "        all_preds.extend(values['pred'])\n",
    "\n",
    "    overall_mcc = matthews_corrcoef(all_truths, all_preds)\n",
    "    return overall_mcc\n",
    "\n",
    "# Calculate all MCCs\n",
    "weighted_mcc = calculate_weighted_mcc(data)\n",
    "macro_mcc = calculate_macro_mcc(data)\n",
    "overall_mcc = calculate_overall_mcc(data)\n",
    "\n",
    "print(f\"Weighted Average MCC: {weighted_mcc:.4f}\")\n",
    "print(f\"Macro-Averaged MCC: {macro_mcc:.4f}\")\n",
    "print(f\"Overall MCC: {overall_mcc:.4f}\")\n"
   ]
  }
 ],
 "metadata": {
  "kernelspec": {
   "display_name": "base",
   "language": "python",
   "name": "python3"
  },
  "language_info": {
   "codemirror_mode": {
    "name": "ipython",
    "version": 3
   },
   "file_extension": ".py",
   "mimetype": "text/x-python",
   "name": "python",
   "nbconvert_exporter": "python",
   "pygments_lexer": "ipython3",
   "version": "3.11.7"
  }
 },
 "nbformat": 4,
 "nbformat_minor": 2
}
